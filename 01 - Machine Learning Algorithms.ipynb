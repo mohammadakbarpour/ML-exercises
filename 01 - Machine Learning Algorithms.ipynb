{
 "cells": [
  {
   "cell_type": "markdown",
   "id": "e04718fa",
   "metadata": {},
   "source": [
    "# Machine Learning Algorithms"
   ]
  },
  {
   "cell_type": "code",
   "execution_count": 1,
   "id": "9f431715",
   "metadata": {},
   "outputs": [
    {
     "ename": "SyntaxError",
     "evalue": "invalid syntax (<ipython-input-1-bbb4352e7ac8>, line 1)",
     "output_type": "error",
     "traceback": [
      "\u001b[0;36m  File \u001b[0;32m\"<ipython-input-1-bbb4352e7ac8>\"\u001b[0;36m, line \u001b[0;32m1\u001b[0m\n\u001b[0;31m    <div dir=\"rtl\" align=\"right\">\u001b[0m\n\u001b[0m    ^\u001b[0m\n\u001b[0;31mSyntaxError\u001b[0m\u001b[0;31m:\u001b[0m invalid syntax\n"
     ]
    }
   ],
   "source": [
    "<div dir=\"rtl\" align=\"right\">\n",
    "\n",
    "</div>"
   ]
  },
  {
   "cell_type": "markdown",
   "id": "6aba5178",
   "metadata": {},
   "source": [
    "## Supervised Learning"
   ]
  },
  {
   "cell_type": "markdown",
   "id": "557a063a",
   "metadata": {},
   "source": [
    "#### رگرسیون خطی (Linear Regression)"
   ]
  },
  {
   "cell_type": "markdown",
   "id": "0c9a4202",
   "metadata": {},
   "source": [
    "<div dir=\"rtl\" align=\"right\">\n",
    " از نقاط داده برای یافتن بهترین خط مناسب جهت مدل سازی داده ها استفاده می کند. یک خط را می توان با معادله y = m * x + c نشان داد که در آن y متغیر وابسته و x متغیر مستقل است.\n",
    "</div>"
   ]
  },
  {
   "cell_type": "markdown",
   "id": "b3dd88cb",
   "metadata": {},
   "source": [
    "#### درخت تصمیم (Decision Tree)"
   ]
  },
  {
   "cell_type": "markdown",
   "id": "c80e48ad",
   "metadata": {},
   "source": [
    "<div dir=\"rtl\" align=\"right\">\n",
    "درخت تصمیم یک روش رایج برای نشان دادن فرآیند تصمیم‌گیری به وسیله ساختاری درخت‌مانند و شاخه‌دار است.\n",
    "درخت تصمیم، روشی در یادگیری ماشین برای ساختاربندی الگوریتم است. یک الگوریتم درخت تصمیم برای تقسیم ویژگی‌های دیتاست از طریق تابع هزینه مورد استفاده قرار می‌گیرد. این الگوریتم قبل از انجام بهینه‌سازی و حذف شاخه‌های اضافه، به گونه‌ای رشد می‌کند که دارای ویژگی‌های نامرتبط با مسئله است؛ به همین دلیل، عملیات هرس کردن برای حذف این شاخه‌های اضافه در آن انجام می‌شود. در الگوریتم درخت تصمیم، پارامترهایی ازجمله عمق درخت تصمیم را نیز می‌توان تنظیم کرد تا از Overfitting یا پیچیدگی بیش از حد درخت تا جای امکان جلوگیری شود.\n",
    "\n",
    "</div>"
   ]
  },
  {
   "cell_type": "markdown",
   "id": "df382c46",
   "metadata": {},
   "source": [
    "#### الگوریتم نزدیک ترین همسایه (K-Nearest Neighbors)"
   ]
  },
  {
   "cell_type": "markdown",
   "id": "c501fe47",
   "metadata": {},
   "source": [
    "<div dir=\"rtl\" align=\"right\">\n",
    "این یک الگوریتم ساده است که نقاط داده ای ناشناخته را با نزدیک ترین k همسایگان خود پیش بینی می کند. مقدار k در اینجا در مورد دقت پیش بینی ها ، یک عامل حیاتی است. با محاسبه فاصله از طریق توابع پایه ای از قبیل هندسه اقلیدسی، نزدیکترین فاصله را تعیین می کند.\n",
    "</div>"
   ]
  },
  {
   "cell_type": "markdown",
   "id": "ff34cad0",
   "metadata": {},
   "source": [
    "#### ماشین بردار پشتیبان (SVM)"
   ]
  },
  {
   "cell_type": "markdown",
   "id": "d09c575e",
   "metadata": {},
   "source": [
    "<div dir=\"rtl\" align=\"right\">\n",
    "این الگوریتم نقاطی از داده را با استفاده از یک خط جدا خواهد کرد. این خط جدا کننده بطوری انتخاب شده است که نزدیک ترین خطی باشدکه بین دو دسته انتخاب شده اند.\n",
    "</div>"
   ]
  },
  {
   "cell_type": "code",
   "execution_count": null,
   "id": "60d43ba7",
   "metadata": {},
   "outputs": [],
   "source": []
  }
 ],
 "metadata": {
  "kernelspec": {
   "display_name": "Python 3",
   "language": "python",
   "name": "python3"
  },
  "language_info": {
   "codemirror_mode": {
    "name": "ipython",
    "version": 3
   },
   "file_extension": ".py",
   "mimetype": "text/x-python",
   "name": "python",
   "nbconvert_exporter": "python",
   "pygments_lexer": "ipython3",
   "version": "3.7.10"
  }
 },
 "nbformat": 4,
 "nbformat_minor": 5
}
