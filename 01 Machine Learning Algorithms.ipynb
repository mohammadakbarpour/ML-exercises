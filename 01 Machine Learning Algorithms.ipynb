{
 "cells": [
  {
   "cell_type": "markdown",
   "id": "4fce1166",
   "metadata": {},
   "source": [
    "# Machine Learning Algorithms"
   ]
  },
  {
   "cell_type": "markdown",
   "id": "a8dc4f2d",
   "metadata": {},
   "source": [
    "* Supervised Learning\n",
    "* Unsupervised Learning"
   ]
  },
  {
   "cell_type": "markdown",
   "id": "4cf9cb2d",
   "metadata": {},
   "source": [
    "## Supervised Learning:"
   ]
  },
  {
   "cell_type": "markdown",
   "id": "a8c499bd",
   "metadata": {},
   "source": [
    "<div dir=\"rtl\" align=\"right\">\n",
    "<h4>رگرسیون خطی (Linear Regression)</h4>\n",
    "</div>"
   ]
  },
  {
   "cell_type": "markdown",
   "id": "2fbeffcc",
   "metadata": {},
   "source": [
    "<div dir=\"rtl\" align=\"justify\">\n",
    " از نقاط داده برای یافتن بهترین خط مناسب جهت مدل سازی داده ها استفاده می کند. یک خط را می توان با معادله y = m * x + c نشان داد که در آن y متغیر وابسته و x متغیر مستقل است.\n",
    "</div>"
   ]
  },
  {
   "cell_type": "markdown",
   "id": "4998c8f3",
   "metadata": {},
   "source": [
    "<div dir=\"rtl\" align=\"right\">\n",
    "<h4>الگوریتم نزدیک ترین همسایه (K-Nearest Neighbors)</h4>\n",
    "</div>"
   ]
  },
  {
   "cell_type": "markdown",
   "id": "2b63c894",
   "metadata": {},
   "source": [
    "<div dir=\"rtl\" align=\"justify\">\n",
    "این یک الگوریتم ساده است که نقاط داده ای ناشناخته را با نزدیک ترین k همسایگان خود پیش بینی می کند. مقدار k در اینجا در مورد دقت پیش بینی ها ، یک عامل حیاتی است. با محاسبه فاصله از طریق توابع پایه ای از قبیل هندسه اقلیدسی، نزدیکترین فاصله را تعیین می کند.\n",
    "</div>"
   ]
  },
  {
   "cell_type": "markdown",
   "id": "22ee4c27",
   "metadata": {},
   "source": [
    "<div dir=\"rtl\" align=\"right\">\n",
    "    <h4>ماشین بردار پشتیبان (SVM)</h4>\n",
    "</div>"
   ]
  },
  {
   "cell_type": "markdown",
   "id": "213cb11d",
   "metadata": {},
   "source": [
    "<div dir=\"rtl\" align=\"justify\">\n",
    "این الگوریتم نقاطی از داده را با استفاده از یک خط جدا خواهد کرد. این خط جدا کننده بطوری انتخاب شده است که نزدیک ترین خطی باشدکه بین دو دسته انتخاب شده اند.\n",
    "</div>"
   ]
  },
  {
   "cell_type": "markdown",
   "id": "7ae4557b-1ae3-48f9-bdc8-7cf06777d0ef",
   "metadata": {},
   "source": [
    "   "
   ]
  },
  {
   "cell_type": "markdown",
   "id": "68bd2c0f-26d3-46fb-a18d-6c870bcfe2d8",
   "metadata": {},
   "source": [
    "   "
   ]
  },
  {
   "cell_type": "markdown",
   "id": "d0f99d9d-bb8e-4321-be19-f4714f85d059",
   "metadata": {},
   "source": [
    "   "
   ]
  },
  {
   "cell_type": "markdown",
   "id": "e77e9542-6e97-4926-9996-a4f6a8394261",
   "metadata": {},
   "source": [
    "   "
   ]
  },
  {
   "cell_type": "markdown",
   "id": "ed75af2e",
   "metadata": {
    "tags": []
   },
   "source": [
    "\n",
    "<div dir=\"rtl\" align=\"right\">\n",
    "    <h4>درخت تصمیم (Decision Tree)</h4>\n",
    "</div>\n"
   ]
  },
  {
   "cell_type": "markdown",
   "id": "333d34e0",
   "metadata": {},
   "source": [
    "<div dir=\"rtl\" align=\"justify\">\n",
    "درخت تصمیم یک روش رایج برای نشان دادن فرآیند تصمیم‌گیری به وسیله ساختاری درخت‌مانند و شاخه‌دار است.\n",
    "درخت تصمیم، روشی در یادگیری ماشین برای ساختاربندی الگوریتم است. یک الگوریتم درخت تصمیم برای تقسیم ویژگی‌های دیتاست از طریق تابع هزینه مورد استفاده قرار می‌گیرد. این الگوریتم قبل از انجام بهینه‌سازی و حذف شاخه‌های اضافه، به گونه‌ای رشد می‌کند که دارای ویژگی‌های نامرتبط با مسئله است؛ به همین دلیل، عملیات هرس کردن برای حذف این شاخه‌های اضافه در آن انجام می‌شود. در الگوریتم درخت تصمیم، پارامترهایی ازجمله عمق درخت تصمیم را نیز می‌توان تنظیم کرد تا از Overfitting یا پیچیدگی بیش از حد درخت تا جای امکان جلوگیری شود.\n",
    "این الگوریتم یک الگوریتم با نظارت می‌باشد و برای طبقه‌بندی استفاده می‌شود. \n",
    "</div>"
   ]
  },
  {
   "cell_type": "markdown",
   "id": "507efd7f",
   "metadata": {},
   "source": [
    "<div dir=\"rtl\" align=\"right\">\n",
    "<ul>\n",
    "  <li>الگوریتم ID3</li>\n",
    "  <li>الگوریتم C4.5</li>\n",
    "  <li>الگوریتم CHAID</li>\n",
    "</ul>\n",
    "</div>"
   ]
  },
  {
   "cell_type": "markdown",
   "id": "af342fd7-3c37-4d39-ab99-1da32e409bb7",
   "metadata": {},
   "source": [
    "<div dir=\"rtl\" align=\"right\">\n",
    "    <h5>الگوریتم ID3</h5>\n",
    "</div>"
   ]
  },
  {
   "cell_type": "markdown",
   "id": "42e18d39-b016-4cf6-8113-23c1fd089dac",
   "metadata": {},
   "source": [
    "<div dir=\"rtl\" align=\"justify\">\n",
    "این الگوریتم یکی از ساده ترین الگوریتم های درخت تصمیم(decision-tree) است. در این الگوریتم درخت تصمیم از بالا به پایین ساخته می‌شود. این الگوریتم با این سوال شروع می‌شود: کدام ویژگی باید در ریشه درخت مورد آزمایش، قرار بگیرد؟ برای یافتن جواب از معیار بهره اطلاعات  استفاده می‌شود. با انتخاب این ویژگی، برای هر یک از مقادیر ممکن آن یک شاخه ایجاد شده و نمونه های آموزشی بر اساس ویژگی هر شاخه مرتب می‌شوند. سپس عملیات فوق برای نمونه های قرار گرفته در هر شاخه تکرار می شوند تا بهترین ویژگی برای گره بعدی انتخاب شود.</div>"
   ]
  },
  {
   "cell_type": "markdown",
   "id": "b84e4463-7c33-4826-a480-f7de78318455",
   "metadata": {},
   "source": [
    "<div dir=\"rtl\" align=\"right\">\n",
    "    <h5>الگوریتم C4.5</h5>\n",
    "</div>"
   ]
  },
  {
   "cell_type": "markdown",
   "id": "74a238d1-12b4-4d49-992d-4ea5cc66e9f5",
   "metadata": {},
   "source": [
    "<div dir=\"rtl\" align=\"justify\">\n",
    "این الگوریتم یکی از تعمیم های الگوریتم ID3 است که از معیار نسبت بهره(Gain ratio)  استفاده میکند. الگوریتم هنگامی متوقف می‌شود که تعداد نمونه ها کمتر از مقدار مشخص شده ای باشد. این الگوریتم از تکنیک پس هرس استفاده میکند و همانند الگوریتم قبلی داده های عددی را نیز می پذیرد.\n",
    "    \n",
    "</div>"
   ]
  },
  {
   "cell_type": "markdown",
   "id": "646d2fba-1816-4e6c-9186-fb876b9b5a7e",
   "metadata": {},
   "source": [
    "<div dir=\"rtl\" align=\"justify\">\n",
    "    <h5>نقاط ضعف الگوریتم ID3  که در C4.5  رفع شده است:</h5>\n",
    "<ol>\n",
    "  <li>الگوریتم C4.5 می‌تواند مقادیر گسسته یا پیوسته را در ویژگی‌ها درک کند.</li>\n",
    "  <li>الگوریتم C4.5 قادر است با وجود مقادیر گمشده نیز درخت تصمیم خود را بسازد، در حالی که الگوریتمی مانند ID3 و بسیاری دیگر از الگوریتم‌های طبقه‌بندی نمی‌توانند با وجود مقادیر گمشده، مدل خود را بسازند.</li>\n",
    "  <li>سومین موردی که باعث بهینه شدن الگوریتم  C4.5  نسبت به ID3  می‌شود، عملیاتِ هرس کردن جهت جلوگیری از overfitting می‌باشد. </li>\n",
    "  <li>الگوریتم C4.5 این قابلیت را دارد که وزن‌های مختلف و غیر یکسانی را به برخی از ویژگی‌ها بدهد.</li>\n",
    "</ol>  \n",
    "</div>"
   ]
  },
  {
   "cell_type": "markdown",
   "id": "dc532a87-cf84-46cc-8ca9-f150724f141c",
   "metadata": {},
   "source": [
    "<div dir=\"rtl\" align=\"right\">\n",
    "    <h5>الگوریتم CHAID</h5>\n",
    "</div>"
   ]
  },
  {
   "cell_type": "markdown",
   "id": "8114eb63-f3f8-4767-963e-06e78ada5c5e",
   "metadata": {},
   "source": [
    "<div dir=\"rtl\" align=\"justify\">\n",
    "این الگوریتم هرگاه به حداکثر عمق تعریف شده‌ای برسد و یا تعداد نمونه‌ها در گره جاری از مقدار تعریف شده‌ای کمتر باشد، متوقف می‌شود. الگوریتم CHAID هیچگونه روش هرسی را اجرا نمی‌کند.\n",
    "</div>"
   ]
  },
  {
   "cell_type": "markdown",
   "id": "edc6d94d-b3b6-4499-9c33-a8453e840c6b",
   "metadata": {},
   "source": [
    "   "
   ]
  },
  {
   "cell_type": "markdown",
   "id": "50e2164d-ec2c-4865-bf9d-10a9ea734f76",
   "metadata": {},
   "source": [
    "   "
   ]
  },
  {
   "cell_type": "markdown",
   "id": "ebc23264-6915-46d4-8d96-468f0e55df80",
   "metadata": {},
   "source": [
    "   "
   ]
  },
  {
   "cell_type": "markdown",
   "id": "4c34c397-7540-4761-8bd2-05bc09d1c9d0",
   "metadata": {},
   "source": [
    "<div dir=\"rtl\" align=\"justify\">\n",
    "    <h3>معیار های انشعاب درخت تصمیم</h3>\n",
    "</div>"
   ]
  },
  {
   "cell_type": "markdown",
   "id": "269b458f-79cc-447f-a071-1f3e9bbed0e9",
   "metadata": {},
   "source": [
    "<div dir=\"rtl\" align=\"justify\">\n",
    "    <h4>بهره اطلاعات</h4>\n",
    "</div>"
   ]
  },
  {
   "cell_type": "markdown",
   "id": "a1c5c957-4855-4e72-a2cc-c60cbb787ab8",
   "metadata": {},
   "source": [
    "<div dir=\"rtl\" align=\"center\">\n",
    "    <img src=\"https://i.postimg.cc/3JnYsnLj/ent.png\" alt=\"ent\" >\n",
    "    <br>\n",
    "    <img src=\"https://i.postimg.cc/VN5qqGhK/gain.png\" alt=\"gain\" >\n",
    "</div>"
   ]
  },
  {
   "cell_type": "markdown",
   "id": "30e06f34-e155-4aa6-b671-9b2497c0f315",
   "metadata": {},
   "source": [
    "   "
   ]
  },
  {
   "cell_type": "markdown",
   "id": "71536ba5-042f-4d71-b558-c6eef94dfb07",
   "metadata": {},
   "source": [
    "   "
   ]
  },
  {
   "cell_type": "markdown",
   "id": "abb64511-080d-41d5-ae7a-fd300ebf9cdc",
   "metadata": {},
   "source": [
    "<div dir=\"rtl\" align=\"justify\">\n",
    "    <h4>شاخص جینی</h4>\n",
    "</div>"
   ]
  },
  {
   "cell_type": "markdown",
   "id": "f2b525f6-06da-4ac1-9877-247ca5c651d2",
   "metadata": {},
   "source": [
    "<div dir=\"rtl\" align=\"center\">\n",
    "    <img src=\"https://i.postimg.cc/ZR55B2Dq/gini.png\" alt=\"gini\" >\n",
    "    <br>\n",
    "    <img src=\"https://i.postimg.cc/kGwZVYz7/gini-index.png\" alt=\"gini index\" >\n",
    "</div>"
   ]
  },
  {
   "cell_type": "markdown",
   "id": "63e6f6a1-1f00-4dea-a3fa-be5bcd4b5359",
   "metadata": {},
   "source": [
    "   "
   ]
  },
  {
   "cell_type": "markdown",
   "id": "e0c4e959-ea7c-4a8f-90ac-443aa773d0f0",
   "metadata": {},
   "source": [
    "   "
   ]
  },
  {
   "cell_type": "markdown",
   "id": "914522a0-50ec-498b-b4eb-9dae792fcd08",
   "metadata": {},
   "source": [
    "___"
   ]
  },
  {
   "cell_type": "markdown",
   "id": "31185d34-9960-4c45-9d85-ed65bcd7ae7d",
   "metadata": {},
   "source": [
    "<div dir=\"rtl\" align=\"justify\">\n",
    "    <h4>پیاده سازی درخت تصمیم:</h4>\n",
    "</div>"
   ]
  },
  {
   "cell_type": "code",
   "execution_count": 3,
   "id": "986717d0-5266-4588-aea7-2214603cbbc9",
   "metadata": {},
   "outputs": [],
   "source": [
    "import matplotlib.pyplot as plt\n",
    "import pandas as pd"
   ]
  },
  {
   "cell_type": "code",
   "execution_count": 4,
   "id": "3a2cb357-9f01-4ae3-9339-3030ece0b8d0",
   "metadata": {},
   "outputs": [],
   "source": [
    "dataset =  pd.read_csv('/mnt/f/internetlogit.csv')"
   ]
  },
  {
   "cell_type": "code",
   "execution_count": 5,
   "id": "906ce9a8-d297-4167-a134-54be8b1036a5",
   "metadata": {},
   "outputs": [
    {
     "data": {
      "text/plain": [
       "<bound method NDFrame.head of      age  gender  webpages  videohours  income  usage\n",
       "0     36       0        32    0.061389    6021      0\n",
       "1     33       0        49    8.516667   10239      1\n",
       "2     46       1        22    0.000000    1374      0\n",
       "3     53       0        16    2.762222    5376      0\n",
       "4     27       1        30    0.000000    1393      0\n",
       "..   ...     ...       ...         ...     ...    ...\n",
       "961   23       0        26    0.909167    3739      0\n",
       "962   51       0        33    2.061111    7866      0\n",
       "963   22       0        24    2.756944    1278      0\n",
       "964   57       1        27    1.527778   11114      1\n",
       "965   45       1        20   10.011944   11711      1\n",
       "\n",
       "[966 rows x 6 columns]>"
      ]
     },
     "execution_count": 5,
     "metadata": {},
     "output_type": "execute_result"
    }
   ],
   "source": [
    "dataset.head"
   ]
  },
  {
   "cell_type": "code",
   "execution_count": 6,
   "id": "c84348db-504f-41bb-9dab-4e813895c0d1",
   "metadata": {},
   "outputs": [],
   "source": [
    "X=dataset.iloc[:,0:5].values\n",
    "y=dataset.iloc[:,5].values"
   ]
  },
  {
   "cell_type": "code",
   "execution_count": 7,
   "id": "2640c1ee-8b4a-44e0-ae14-2b41562a02c1",
   "metadata": {},
   "outputs": [],
   "source": [
    "from sklearn.model_selection import train_test_split\n",
    "X_train, X_test, y_train, y_test = train_test_split(X, y, test_size =0.25, random_state=42)"
   ]
  },
  {
   "cell_type": "code",
   "execution_count": 8,
   "id": "4650a39c-1482-44e9-8a92-c799002445cb",
   "metadata": {},
   "outputs": [
    {
     "data": {
      "text/plain": [
       "DecisionTreeClassifier()"
      ]
     },
     "execution_count": 8,
     "metadata": {},
     "output_type": "execute_result"
    }
   ],
   "source": [
    "from sklearn.tree import DecisionTreeClassifier\n",
    "classifier = DecisionTreeClassifier()\n",
    "classifier.fit(X_train, y_train)"
   ]
  },
  {
   "cell_type": "code",
   "execution_count": 9,
   "id": "aaafb02d-8d61-48d4-955f-ad8c17b8f78c",
   "metadata": {},
   "outputs": [],
   "source": [
    "y_pred = classifier.predict(X_test)"
   ]
  },
  {
   "cell_type": "code",
   "execution_count": 10,
   "id": "3c2b91b1-ee67-4714-ae76-2b751de7efd6",
   "metadata": {},
   "outputs": [
    {
     "name": "stdout",
     "output_type": "stream",
     "text": [
      "[[140   6]\n",
      " [  3  93]]\n",
      "              precision    recall  f1-score   support\n",
      "\n",
      "           0       0.98      0.96      0.97       146\n",
      "           1       0.94      0.97      0.95        96\n",
      "\n",
      "    accuracy                           0.96       242\n",
      "   macro avg       0.96      0.96      0.96       242\n",
      "weighted avg       0.96      0.96      0.96       242\n",
      "\n"
     ]
    }
   ],
   "source": [
    "from sklearn.metrics import classification_report, confusion_matrix\n",
    "print(confusion_matrix(y_test, y_pred))\n",
    "print(classification_report(y_test, y_pred))\n"
   ]
  },
  {
   "cell_type": "code",
   "execution_count": 11,
   "id": "ccfccdf0-c5f1-4604-9510-3c71a07ce098",
   "metadata": {},
   "outputs": [
    {
     "name": "stdout",
     "output_type": "stream",
     "text": [
      "|--- feature_3 <= 2.81\n",
      "|   |--- feature_4 <= 8089.00\n",
      "|   |   |--- feature_2 <= 37.50\n",
      "|   |   |   |--- feature_2 <= 19.50\n",
      "|   |   |   |   |--- class: 0\n",
      "|   |   |   |--- feature_2 >  19.50\n",
      "|   |   |   |   |--- feature_2 <= 21.50\n",
      "|   |   |   |   |   |--- feature_4 <= 1282.00\n",
      "|   |   |   |   |   |   |--- feature_3 <= 2.07\n",
      "|   |   |   |   |   |   |   |--- class: 1\n",
      "|   |   |   |   |   |   |--- feature_3 >  2.07\n",
      "|   |   |   |   |   |   |   |--- class: 0\n",
      "|   |   |   |   |   |--- feature_4 >  1282.00\n",
      "|   |   |   |   |   |   |--- feature_1 <= 0.50\n",
      "|   |   |   |   |   |   |   |--- class: 0\n",
      "|   |   |   |   |   |   |--- feature_1 >  0.50\n",
      "|   |   |   |   |   |   |   |--- feature_3 <= 0.54\n",
      "|   |   |   |   |   |   |   |   |--- class: 0\n",
      "|   |   |   |   |   |   |   |--- feature_3 >  0.54\n",
      "|   |   |   |   |   |   |   |   |--- feature_4 <= 5292.00\n",
      "|   |   |   |   |   |   |   |   |   |--- feature_4 <= 3847.00\n",
      "|   |   |   |   |   |   |   |   |   |   |--- class: 0\n",
      "|   |   |   |   |   |   |   |   |   |--- feature_4 >  3847.00\n",
      "|   |   |   |   |   |   |   |   |   |   |--- class: 1\n",
      "|   |   |   |   |   |   |   |   |--- feature_4 >  5292.00\n",
      "|   |   |   |   |   |   |   |   |   |--- class: 0\n",
      "|   |   |   |   |--- feature_2 >  21.50\n",
      "|   |   |   |   |   |--- feature_0 <= 30.50\n",
      "|   |   |   |   |   |   |--- class: 0\n",
      "|   |   |   |   |   |--- feature_0 >  30.50\n",
      "|   |   |   |   |   |   |--- feature_0 <= 32.50\n",
      "|   |   |   |   |   |   |   |--- feature_4 <= 7432.50\n",
      "|   |   |   |   |   |   |   |   |--- feature_2 <= 33.50\n",
      "|   |   |   |   |   |   |   |   |   |--- feature_3 <= 0.35\n",
      "|   |   |   |   |   |   |   |   |   |   |--- class: 0\n",
      "|   |   |   |   |   |   |   |   |   |--- feature_3 >  0.35\n",
      "|   |   |   |   |   |   |   |   |   |   |--- feature_3 <= 1.48\n",
      "|   |   |   |   |   |   |   |   |   |   |   |--- class: 1\n",
      "|   |   |   |   |   |   |   |   |   |   |--- feature_3 >  1.48\n",
      "|   |   |   |   |   |   |   |   |   |   |   |--- class: 0\n",
      "|   |   |   |   |   |   |   |   |--- feature_2 >  33.50\n",
      "|   |   |   |   |   |   |   |   |   |--- class: 1\n",
      "|   |   |   |   |   |   |   |--- feature_4 >  7432.50\n",
      "|   |   |   |   |   |   |   |   |--- class: 1\n",
      "|   |   |   |   |   |   |--- feature_0 >  32.50\n",
      "|   |   |   |   |   |   |   |--- feature_2 <= 22.50\n",
      "|   |   |   |   |   |   |   |   |--- feature_3 <= 2.24\n",
      "|   |   |   |   |   |   |   |   |   |--- class: 0\n",
      "|   |   |   |   |   |   |   |   |--- feature_3 >  2.24\n",
      "|   |   |   |   |   |   |   |   |   |--- class: 1\n",
      "|   |   |   |   |   |   |   |--- feature_2 >  22.50\n",
      "|   |   |   |   |   |   |   |   |--- feature_3 <= 0.43\n",
      "|   |   |   |   |   |   |   |   |   |--- class: 0\n",
      "|   |   |   |   |   |   |   |   |--- feature_3 >  0.43\n",
      "|   |   |   |   |   |   |   |   |   |--- feature_3 <= 0.45\n",
      "|   |   |   |   |   |   |   |   |   |   |--- class: 1\n",
      "|   |   |   |   |   |   |   |   |   |--- feature_3 >  0.45\n",
      "|   |   |   |   |   |   |   |   |   |   |--- feature_3 <= 1.79\n",
      "|   |   |   |   |   |   |   |   |   |   |   |--- truncated branch of depth 4\n",
      "|   |   |   |   |   |   |   |   |   |   |--- feature_3 >  1.79\n",
      "|   |   |   |   |   |   |   |   |   |   |   |--- class: 0\n",
      "|   |   |--- feature_2 >  37.50\n",
      "|   |   |   |--- class: 1\n",
      "|   |--- feature_4 >  8089.00\n",
      "|   |   |--- feature_0 <= 28.50\n",
      "|   |   |   |--- feature_2 <= 33.00\n",
      "|   |   |   |   |--- feature_0 <= 27.50\n",
      "|   |   |   |   |   |--- feature_3 <= 0.59\n",
      "|   |   |   |   |   |   |--- feature_3 <= 0.55\n",
      "|   |   |   |   |   |   |   |--- class: 0\n",
      "|   |   |   |   |   |   |--- feature_3 >  0.55\n",
      "|   |   |   |   |   |   |   |--- class: 1\n",
      "|   |   |   |   |   |--- feature_3 >  0.59\n",
      "|   |   |   |   |   |   |--- class: 0\n",
      "|   |   |   |   |--- feature_0 >  27.50\n",
      "|   |   |   |   |   |--- feature_3 <= 0.09\n",
      "|   |   |   |   |   |   |--- class: 1\n",
      "|   |   |   |   |   |--- feature_3 >  0.09\n",
      "|   |   |   |   |   |   |--- class: 0\n",
      "|   |   |   |--- feature_2 >  33.00\n",
      "|   |   |   |   |--- class: 1\n",
      "|   |   |--- feature_0 >  28.50\n",
      "|   |   |   |--- feature_2 <= 19.50\n",
      "|   |   |   |   |--- feature_1 <= 0.50\n",
      "|   |   |   |   |   |--- class: 0\n",
      "|   |   |   |   |--- feature_1 >  0.50\n",
      "|   |   |   |   |   |--- feature_3 <= 1.90\n",
      "|   |   |   |   |   |   |--- feature_4 <= 11382.00\n",
      "|   |   |   |   |   |   |   |--- class: 0\n",
      "|   |   |   |   |   |   |--- feature_4 >  11382.00\n",
      "|   |   |   |   |   |   |   |--- class: 1\n",
      "|   |   |   |   |   |--- feature_3 >  1.90\n",
      "|   |   |   |   |   |   |--- class: 1\n",
      "|   |   |   |--- feature_2 >  19.50\n",
      "|   |   |   |   |--- feature_3 <= 2.75\n",
      "|   |   |   |   |   |--- feature_3 <= 0.23\n",
      "|   |   |   |   |   |   |--- feature_2 <= 27.50\n",
      "|   |   |   |   |   |   |   |--- feature_3 <= 0.07\n",
      "|   |   |   |   |   |   |   |   |--- class: 1\n",
      "|   |   |   |   |   |   |   |--- feature_3 >  0.07\n",
      "|   |   |   |   |   |   |   |   |--- class: 0\n",
      "|   |   |   |   |   |   |--- feature_2 >  27.50\n",
      "|   |   |   |   |   |   |   |--- class: 1\n",
      "|   |   |   |   |   |--- feature_3 >  0.23\n",
      "|   |   |   |   |   |   |--- class: 1\n",
      "|   |   |   |   |--- feature_3 >  2.75\n",
      "|   |   |   |   |   |--- class: 0\n",
      "|--- feature_3 >  2.81\n",
      "|   |--- class: 1\n",
      "\n"
     ]
    }
   ],
   "source": [
    "from sklearn import tree\n",
    "text_representation = tree.export_text(classifier)\n",
    "print(text_representation)"
   ]
  },
  {
   "cell_type": "code",
   "execution_count": null,
   "id": "d5ee94ca-e0b5-48b2-bbb7-07d7465755d9",
   "metadata": {},
   "outputs": [],
   "source": []
  }
 ],
 "metadata": {
  "kernelspec": {
   "display_name": "Python 3",
   "language": "python",
   "name": "python3"
  },
  "language_info": {
   "codemirror_mode": {
    "name": "ipython",
    "version": 3
   },
   "file_extension": ".py",
   "mimetype": "text/x-python",
   "name": "python",
   "nbconvert_exporter": "python",
   "pygments_lexer": "ipython3",
   "version": "3.7.10"
  }
 },
 "nbformat": 4,
 "nbformat_minor": 5
}
