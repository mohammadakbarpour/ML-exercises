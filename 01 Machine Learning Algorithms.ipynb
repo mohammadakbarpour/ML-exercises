{
 "cells": [
  {
   "cell_type": "markdown",
   "id": "4fce1166",
   "metadata": {},
   "source": [
    "# Machine Learning Algorithms"
   ]
  },
  {
   "cell_type": "markdown",
   "id": "a8dc4f2d",
   "metadata": {},
   "source": [
    "* Supervised Learning\n",
    "* Unsupervised Learning"
   ]
  },
  {
   "cell_type": "markdown",
   "id": "4cf9cb2d",
   "metadata": {},
   "source": [
    "## Supervised Learning:"
   ]
  },
  {
   "cell_type": "markdown",
   "id": "a8c499bd",
   "metadata": {},
   "source": [
    "<div dir=\"rtl\" align=\"justify\">\n",
    "<h4>رگرسیون خطی (Linear Regression)</h4>\n",
    "</div>"
   ]
  },
  {
   "cell_type": "markdown",
   "id": "2fbeffcc",
   "metadata": {},
   "source": [
    "<div dir=\"rtl\" align=\"justify\">\n",
    " از نقاط داده برای یافتن بهترین خط مناسب جهت مدل سازی داده ها استفاده می کند. یک خط را می توان با معادله y = m * x + c نشان داد که در آن y متغیر وابسته و x متغیر مستقل است.\n",
    "</div>"
   ]
  },
  {
   "cell_type": "markdown",
   "id": "4998c8f3",
   "metadata": {},
   "source": [
    "<div dir=\"rtl\" align=\"justify\">\n",
    "<h4>الگوریتم نزدیک ترین همسایه (K-Nearest Neighbors)</h4>\n",
    "</div>"
   ]
  },
  {
   "cell_type": "markdown",
   "id": "2b63c894",
   "metadata": {},
   "source": [
    "<div dir=\"rtl\" align=\"justify\">\n",
    "این یک الگوریتم ساده است که نقاط داده ای ناشناخته را با نزدیک ترین k همسایگان خود پیش بینی می کند. مقدار k در اینجا در مورد دقت پیش بینی ها ، یک عامل حیاتی است. با محاسبه فاصله از طریق توابع پایه ای از قبیل هندسه اقلیدسی، نزدیکترین فاصله را تعیین می کند.\n",
    "</div>"
   ]
  },
  {
   "cell_type": "markdown",
   "id": "22ee4c27",
   "metadata": {},
   "source": [
    "<div dir=\"rtl\" align=\"justify\">\n",
    "    <h4>ماشین بردار پشتیبان (SVM)</h4>\n",
    "</div>"
   ]
  },
  {
   "cell_type": "markdown",
   "id": "213cb11d",
   "metadata": {},
   "source": [
    "<div dir=\"rtl\" align=\"justify\">\n",
    "این الگوریتم نقاطی از داده را با استفاده از یک خط جدا خواهد کرد. این خط جدا کننده بطوری انتخاب شده است که نزدیک ترین خطی باشدکه بین دو دسته انتخاب شده اند.\n",
    "</div>"
   ]
  },
  {
   "cell_type": "markdown",
   "id": "ed75af2e",
   "metadata": {
    "tags": []
   },
   "source": [
    "\n",
    "<div dir=\"rtl\" align=\"justify\">\n",
    "    <h4>درخت تصمیم (Decision Tree)</h4>\n",
    "</div>\n"
   ]
  },
  {
   "cell_type": "markdown",
   "id": "333d34e0",
   "metadata": {},
   "source": [
    "<div dir=\"rtl\" align=\"justify\">\n",
    "درخت تصمیم یک روش رایج برای نشان دادن فرآیند تصمیم‌گیری به وسیله ساختاری درخت‌مانند و شاخه‌دار است.\n",
    "درخت تصمیم، روشی در یادگیری ماشین برای ساختاربندی الگوریتم است. یک الگوریتم درخت تصمیم برای تقسیم ویژگی‌های دیتاست از طریق تابع هزینه مورد استفاده قرار می‌گیرد. این الگوریتم قبل از انجام بهینه‌سازی و حذف شاخه‌های اضافه، به گونه‌ای رشد می‌کند که دارای ویژگی‌های نامرتبط با مسئله است؛ به همین دلیل، عملیات هرس کردن برای حذف این شاخه‌های اضافه در آن انجام می‌شود. در الگوریتم درخت تصمیم، پارامترهایی ازجمله عمق درخت تصمیم را نیز می‌توان تنظیم کرد تا از Overfitting یا پیچیدگی بیش از حد درخت تا جای امکان جلوگیری شود.\n",
    "این الگوریتم یک الگوریتم با نظارت می‌باشد و برای طبقه‌بندی استفاده می‌شود. \n",
    "</div>"
   ]
  },
  {
   "cell_type": "markdown",
   "id": "507efd7f",
   "metadata": {},
   "source": [
    "<div dir=\"rtl\" align=\"justify\">\n",
    "<ul>\n",
    "  <li>الگوریتم ID3</li>\n",
    "  <li>الگوریتم C4.5</li>\n",
    "  <li>الگوریتم CHAID</li>\n",
    "</ul>\n",
    "</div>"
   ]
  },
  {
   "cell_type": "markdown",
   "id": "af342fd7-3c37-4d39-ab99-1da32e409bb7",
   "metadata": {},
   "source": [
    "<div dir=\"rtl\" align=\"justify\">\n",
    "    <h5>الگوریتم ID3</h5>\n",
    "</div>"
   ]
  },
  {
   "cell_type": "markdown",
   "id": "42e18d39-b016-4cf6-8113-23c1fd089dac",
   "metadata": {},
   "source": [
    "<div dir=\"rtl\" align=\"justify\">\n",
    "این الگوریتم یکی از ساده ترین الگوریتم های درخت تصمیم(decision-tree) است. در این الگوریتم درخت تصمیم از بالا به پایین ساخته می‌شود. این الگوریتم با این سوال شروع می‌شود: کدام ویژگی باید در ریشه درخت مورد آزمایش، قرار بگیرد؟ برای یافتن جواب از معیار بهره اطلاعات  استفاده می‌شود. با انتخاب این ویژگی، برای هر یک از مقادیر ممکن آن یک شاخه ایجاد شده و نمونه های آموزشی بر اساس ویژگی هر شاخه مرتب می‌شوند. سپس عملیات فوق برای نمونه های قرار گرفته در هر شاخه تکرار می شوند تا بهترین ویژگی برای گره بعدی انتخاب شود.</div>"
   ]
  },
  {
   "cell_type": "markdown",
   "id": "b84e4463-7c33-4826-a480-f7de78318455",
   "metadata": {},
   "source": [
    "<div dir=\"rtl\" align=\"justify\">\n",
    "    <h5>الگوریتم C4.5</h5>\n",
    "</div>"
   ]
  },
  {
   "cell_type": "markdown",
   "id": "74a238d1-12b4-4d49-992d-4ea5cc66e9f5",
   "metadata": {},
   "source": [
    "<div dir=\"rtl\" align=\"justify\">\n",
    "این الگوریتم یکی از تعمیم های الگوریتم ID3 است که از معیار نسبت بهره(Gain ratio)  استفاده میکند. الگوریتم هنگامی متوقف می‌شود که تعداد نمونه ها کمتر از مقدار مشخص شده ای باشد. این الگوریتم از تکنیک پس هرس استفاده میکند و همانند الگوریتم قبلی داده های عددی را نیز می پذیرد.\n",
    "    \n",
    "</div>"
   ]
  },
  {
   "cell_type": "markdown",
   "id": "646d2fba-1816-4e6c-9186-fb876b9b5a7e",
   "metadata": {},
   "source": [
    "<div dir=\"rtl\" align=\"justify\">\n",
    "    <h5>نقاط ضعف الگوریتم ID3  که در C4.5  رفع شده است:</h5>\n",
    "<ol>\n",
    "  <li>الگوریتم C4.5 می‌تواند مقادیر گسسته یا پیوسته را در ویژگی‌ها درک کند.</li>\n",
    "  <li>الگوریتم C4.5 قادر است با وجود مقادیر گمشده نیز درخت تصمیم خود را بسازد، در حالی که الگوریتمی مانند ID3 و بسیاری دیگر از الگوریتم‌های طبقه‌بندی نمی‌توانند با وجود مقادیر گمشده، مدل خود را بسازند.</li>\n",
    "  <li>سومین موردی که باعث بهینه شدن الگوریتم  C4.5  نسبت به ID3  می‌شود، عملیاتِ هرس کردن جهت جلوگیری از overfitting می‌باشد. </li>\n",
    "  <li>الگوریتم C4.5 این قابلیت را دارد که وزن‌های مختلف و غیر یکسانی را به برخی از ویژگی‌ها بدهد.</li>\n",
    "</ol>  \n",
    "</div>"
   ]
  },
  {
   "cell_type": "markdown",
   "id": "dc532a87-cf84-46cc-8ca9-f150724f141c",
   "metadata": {},
   "source": [
    "<div dir=\"rtl\" align=\"justify\">\n",
    "    <h5>الگوریتم CHAID</h5>\n",
    "</div>"
   ]
  },
  {
   "cell_type": "markdown",
   "id": "8114eb63-f3f8-4767-963e-06e78ada5c5e",
   "metadata": {},
   "source": [
    "<div dir=\"rtl\" align=\"justify\">\n",
    "این الگوریتم هرگاه به حداکثر عمق تعریف شده‌ای برسد و یا تعداد نمونه‌ها در گره جاری از مقدار تعریف شده‌ای کمتر باشد، متوقف می‌شود. الگوریتم CHAID هیچگونه روش هرسی را اجرا نمی‌کند.\n",
    "</div>"
   ]
  }
 ],
 "metadata": {
  "kernelspec": {
   "display_name": "Python 3",
   "language": "python",
   "name": "python3"
  },
  "language_info": {
   "codemirror_mode": {
    "name": "ipython",
    "version": 3
   },
   "file_extension": ".py",
   "mimetype": "text/x-python",
   "name": "python",
   "nbconvert_exporter": "python",
   "pygments_lexer": "ipython3",
   "version": "3.7.10"
  }
 },
 "nbformat": 4,
 "nbformat_minor": 5
}
